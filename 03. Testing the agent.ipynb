{
    "cells": [
        {
            "cell_type": "code",
            "execution_count": null,
            "source": [
                "import logging\n",
                "logger = logging.getLogger()\n",
                "logger.setLevel(logging.WARN)\n",
                "\n",
                "import os\n",
                "from datetime import datetime\n",
                "import ray\n",
                "from ray import tune\n",
                "from ray.rllib.agents.ppo import PPOTrainer\n",
                "from ray.tune.registry import register_env\n",
                "from ray.tune.logger import CSVLogger, TBXLogger\n",
                "from rllib_utils.env import launch_and_wrap_env\n",
                "from rllib_utils.utils import seed\n",
                "from rllib_utils.rllib_callbacks import on_episode_start, on_episode_step, on_episode_end, on_train_result\n",
                "from rllib_utils.rllib_loggers import TensorboardImageLogger"
            ],
            "outputs": [],
            "metadata": {}
        },
        {
            "cell_type": "code",
            "execution_count": null,
            "source": [
                "checkpoint_path = \"artifacts/ppo_DA/PPO_0_2021-07-12_11-08-383cftwzpe/checkpoint_24/checkpoint-24\"\n",
                "\n",
                "ppo_config[\"env_config\"][\"mode\"] = 'inference'\n",
                "ppo_config[\"env_config\"][\"domain_rand\"] = False"
            ],
            "outputs": [],
            "metadata": {}
        },
        {
            "cell_type": "code",
            "execution_count": null,
            "source": [
                "# Restore agent\n",
                "trainer = PPOTrainer(config=ppo_config)\n",
                "trainer.restore(checkpoint_path)"
            ],
            "outputs": [],
            "metadata": {}
        }
    ],
    "metadata": {
        "orig_nbformat": 4,
        "language_info": {
            "name": "python"
        }
    },
    "nbformat": 4,
    "nbformat_minor": 2
}